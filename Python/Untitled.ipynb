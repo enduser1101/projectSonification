{
 "cells": [
  {
   "cell_type": "code",
   "execution_count": 5,
   "id": "8276ca93-9e7e-4f17-9700-b1f988ec553c",
   "metadata": {
    "tags": []
   },
   "outputs": [],
   "source": [
    "import numpy as np\n",
    "import sounddevice as sd\n",
    "import threading\n",
    "import queue\n",
    "import time\n",
    "from obspy.clients.seedlink.easyseedlink import EasySeedLinkClient\n",
    "from obspy.core import Trace, Stream"
   ]
  },
  {
   "cell_type": "code",
   "execution_count": 7,
   "id": "7e46eee3-8fc1-44e7-950e-8085818cef1c",
   "metadata": {
    "tags": []
   },
   "outputs": [],
   "source": [
    "signal_queue = queue.Queue()\n",
    "audio_queue = queue.Queue()"
   ]
  },
  {
   "cell_type": "code",
   "execution_count": 8,
   "id": "a9d40cc5-c9bd-4296-9d23-8b2ef5f3d366",
   "metadata": {
    "tags": []
   },
   "outputs": [],
   "source": [
    "# 📡 SeedLink-Client für Live-Daten\n",
    "class MySeedLinkClient(EasySeedLinkClient):\n",
    "    def __init__(self, network, station, channel):\n",
    "        super().__init__(\"rtserve.iris.washington.edu:18000\")\n",
    "        self.select_stream(network, station, channel)\n",
    "\n",
    "    def on_data(self, trace):\n",
    "        fs_signal = trace.stats.sampling_rate\n",
    "        data = trace.data.astype(np.float32)\n",
    "\n",
    "        # Normalisierung (optional)\n",
    "        if np.max(np.abs(data)) > 0:\n",
    "            data /= np.max(np.abs(data))\n",
    "\n",
    "        print(f\"📡 {trace.id} | {len(data)} samples @ {fs_signal} Hz\")\n",
    "        signal_queue.put((data, fs_signal))\n"
   ]
  },
  {
   "cell_type": "code",
   "execution_count": 9,
   "id": "6470aa5c-f842-41ba-87ba-982ce2ec2a94",
   "metadata": {
    "tags": []
   },
   "outputs": [],
   "source": [
    "def start_all():\n",
    "    # Starte SeedLink-Client\n",
    "    threading.Thread(target=lambda: MySeedLinkClient(\"IU\", \"ANMO\", \"BHZ\").run(), daemon=True).start()\n"
   ]
  },
  {
   "cell_type": "code",
   "execution_count": 12,
   "id": "eed21a1e-03cc-4ffe-880d-db9b6f926bbf",
   "metadata": {
    "tags": []
   },
   "outputs": [
    {
     "ename": "TypeError",
     "evalue": "EasySeedLinkClient.get_info() missing 1 required positional argument: 'level'",
     "output_type": "error",
     "traceback": [
      "\u001b[0;31m---------------------------------------------------------------------------\u001b[0m",
      "\u001b[0;31mTypeError\u001b[0m                                 Traceback (most recent call last)",
      "Cell \u001b[0;32mIn[12], line 10\u001b[0m\n\u001b[1;32m      7\u001b[0m             \u001b[38;5;28mprint\u001b[39m(line)\n\u001b[1;32m      9\u001b[0m client \u001b[38;5;241m=\u001b[39m ListingClient(\u001b[38;5;124m\"\u001b[39m\u001b[38;5;124mrtserve.iris.washington.edu:18000\u001b[39m\u001b[38;5;124m\"\u001b[39m)\n\u001b[0;32m---> 10\u001b[0m client\u001b[38;5;241m.\u001b[39mget_info()\n",
      "\u001b[0;31mTypeError\u001b[0m: EasySeedLinkClient.get_info() missing 1 required positional argument: 'level'"
     ]
    }
   ],
   "source": [
    "from obspy.clients.seedlink.easyseedlink import EasySeedLinkClient\n",
    "\n",
    "class ListingClient(EasySeedLinkClient):\n",
    "    def on_seedlink_info(self, info):\n",
    "        print(\"📋 Verfügbare Streams:\")\n",
    "        for line in info.strip().splitlines():\n",
    "            print(line)\n",
    "\n",
    "client = ListingClient(\"rtserve.iris.washington.edu:18000\")\n",
    "client.get_info()\n"
   ]
  },
  {
   "cell_type": "code",
   "execution_count": null,
   "id": "dbc5d392-0340-46a5-a919-4752d63fed84",
   "metadata": {},
   "outputs": [],
   "source": []
  }
 ],
 "metadata": {
  "kernelspec": {
   "display_name": "Python 3 (ipykernel)",
   "language": "python",
   "name": "python3"
  },
  "language_info": {
   "codemirror_mode": {
    "name": "ipython",
    "version": 3
   },
   "file_extension": ".py",
   "mimetype": "text/x-python",
   "name": "python",
   "nbconvert_exporter": "python",
   "pygments_lexer": "ipython3",
   "version": "3.11.5"
  }
 },
 "nbformat": 4,
 "nbformat_minor": 5
}
